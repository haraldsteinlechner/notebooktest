{
 "cells": [
  {
   "cell_type": "code",
   "execution_count": 1,
   "metadata": {},
   "outputs": [
    {
     "data": {
      "text/html": [
       "Installing package FShade.Imperative, version 4.3.9.done!"
      ]
     },
     "metadata": {},
     "output_type": "display_data"
    },
    {
     "name": "stdout",
     "output_type": "stream",
     "text": [
      "=============== S T A R T ==========================================\n",
      ">>>> /root/.nuget/packages/aardvark.base.typeproviders/4.5.8/lib/netstandard2.0/Aardvark.Base.TypeProviders.dll\n",
      ">>>> /root/.nuget/packages/aardvark.base.typeproviders/4.5.8/lib/netstandard2.0/Aardvark.Base.TypeProviders.dll\n",
      ">>>> /root/.nuget/packages/aardvark.base.typeproviders/4.5.8/lib/netstandard2.0/Aardvark.Base.TypeProviders.dll\n",
      ">>>> /root/.nuget/packages/aardvark.base.typeproviders/4.5.8/lib/netstandard2.0/Aardvark.Base.TypeProviders.dll\n",
      ">>>> /root/.nuget/packages/aardvark.base.typeproviders/4.5.8/lib/netstandard2.0/Aardvark.Base.TypeProviders.dll\n",
      ">>>> /root/.nuget/packages/aardvark.base.typeproviders/4.5.8/lib/netstandard2.0/Aardvark.Base.TypeProviders.dll\n",
      ">>>> /root/.nuget/packages/aardvark.base.typeproviders/4.5.8/lib/netstandard2.0/Aardvark.Base.TypeProviders.dll\n",
      ">>>> /root/.nuget/packages/aardvark.base.typeproviders/4.5.8/lib/netstandard2.0/Aardvark.Base.TypeProviders.dll\n",
      ">>>> /root/.nuget/packages/aardvark.base.typeproviders/4.5.8/lib/netstandard2.0/Aardvark.Base.TypeProviders.dll\n",
      ">>>> /root/.nuget/packages/aardvark.base.typeproviders/4.5.8/lib/netstandard2.0/Aardvark.Base.TypeProviders.dll\n",
      ">>>> /root/.nuget/packages/aardvark.base.typeproviders/4.5.8/lib/netstandard2.0/Aardvark.Base.TypeProviders.dll\n",
      ">>>> /root/.nuget/packages/aardvark.base.typeproviders/4.5.8/lib/netstandard2.0/Aardvark.Base.TypeProviders.dll\n",
      ">>>> /root/.nuget/packages/aardvark.base.typeproviders/4.5.8/lib/netstandard2.0/Aardvark.Base.TypeProviders.dll\n",
      ">>>> /root/.nuget/packages/aardvark.base.typeproviders/4.5.8/lib/netstandard2.0/Aardvark.Base.TypeProviders.dll\n",
      ">>>> /root/.nuget/packages/aardvark.base.typeproviders/4.5.8/lib/netstandard2.0/Aardvark.Base.TypeProviders.dll\n",
      ">>>> /root/.nuget/packages/aardvark.base.typeproviders/4.5.8/lib/netstandard2.0/Aardvark.Base.TypeProviders.dll\n",
      ">>>> /root/.nuget/packages/aardvark.base.typeproviders/4.5.8/lib/netstandard2.0/Aardvark.Base.TypeProviders.dll\n",
      ">>>> /root/.nuget/packages/aardvark.base.typeproviders/4.5.8/lib/netstandard2.0/Aardvark.Base.TypeProviders.dll\n",
      ">>>> /root/.nuget/packages/aardvark.base.typeproviders/4.5.8/lib/netstandard2.0/Aardvark.Base.TypeProviders.dll\n",
      ">>>> /root/.nuget/packages/aardvark.base.typeproviders/4.5.8/lib/netstandard2.0/Aardvark.Base.TypeProviders.dll\n",
      ">>>> /root/.nuget/packages/aardvark.base.typeproviders/4.5.8/lib/netstandard2.0/Aardvark.Base.TypeProviders.dll\n",
      ">>>> /root/.nuget/packages/aardvark.base.typeproviders/4.5.8/lib/netstandard2.0/Aardvark.Base.TypeProviders.dll\n",
      ">>>> /root/.nuget/packages/aardvark.base.typeproviders/4.5.8/lib/netstandard2.0/Aardvark.Base.TypeProviders.dll\n",
      ">>>> /root/.nuget/packages/aardvark.base.typeproviders/4.5.8/lib/netstandard2.0/Aardvark.Base.TypeProviders.dll\n",
      ">>>> /root/.nuget/packages/aardvark.base.typeproviders/4.5.8/lib/netstandard2.0/Aardvark.Base.TypeProviders.dll\n",
      ">>>> /root/.nuget/packages/aardvark.base.typeproviders/4.5.8/lib/netstandard2.0/Aardvark.Base.TypeProviders.dll\n",
      ">>>> /root/.nuget/packages/aardvark.base.typeproviders/4.5.8/lib/netstandard2.0/Aardvark.Base.TypeProviders.dll\n",
      ">>>> /root/.nuget/packages/aardvark.base.typeproviders/4.5.8/lib/netstandard2.0/Aardvark.Base.TypeProviders.dll\n",
      ">>>> /root/.nuget/packages/aardvark.base.typeproviders/4.5.8/lib/netstandard2.0/Aardvark.Base.TypeProviders.dll\n",
      ">>>> /root/.nuget/packages/aardvark.base.typeproviders/4.5.8/lib/netstandard2.0/Aardvark.Base.TypeProviders.dll\n",
      ">>>> /root/.nuget/packages/aardvark.base.typeproviders/4.5.8/lib/netstandard2.0/Aardvark.Base.TypeProviders.dll\n",
      ">>>> /root/.nuget/packages/aardvark.base.typeproviders/4.5.8/lib/netstandard2.0/Aardvark.Base.TypeProviders.dll\n",
      ">>>> /root/.nuget/packages/aardvark.base.typeproviders/4.5.8/lib/netstandard2.0/Aardvark.Base.TypeProviders.dll\n",
      ">>>> /root/.nuget/packages/aardvark.base.typeproviders/4.5.8/lib/netstandard2.0/Aardvark.Base.TypeProviders.dll\n",
      ">>>> /root/.nuget/packages/aardvark.base.typeproviders/4.5.8/lib/netstandard2.0/Aardvark.Base.TypeProviders.dll\n",
      ">>>> /root/.nuget/packages/aardvark.base.typeproviders/4.5.8/lib/netstandard2.0/Aardvark.Base.TypeProviders.dll\n",
      ">>>> /root/.nuget/packages/aardvark.base.typeproviders/4.5.8/lib/netstandard2.0/Aardvark.Base.TypeProviders.dll\n",
      ">>>> /root/.nuget/packages/aardvark.base.typeproviders/4.5.8/lib/netstandard2.0/Aardvark.Base.TypeProviders.dll\n",
      ">>>> /root/.nuget/packages/aardvark.base.typeproviders/4.5.8/lib/netstandard2.0/Aardvark.Base.TypeProviders.dll\n",
      ">>>> /root/.nuget/packages/aardvark.base.typeproviders/4.5.8/lib/netstandard2.0/Aardvark.Base.TypeProviders.dll\n",
      ">>>> /root/.nuget/packages/aardvark.base.typeproviders/4.5.8/lib/netstandard2.0/Aardvark.Base.TypeProviders.dll\n",
      ">>>> /root/.nuget/packages/aardvark.base.typeproviders/4.5.8/lib/netstandard2.0/Aardvark.Base.TypeProviders.dll\n",
      ">>>> /root/.nuget/packages/aardvark.base.typeproviders/4.5.8/lib/netstandard2.0/Aardvark.Base.TypeProviders.dll\n",
      ">>>> /root/.nuget/packages/aardvark.base.typeproviders/4.5.8/lib/netstandard2.0/Aardvark.Base.TypeProviders.dll\n",
      ">>>> /root/.nuget/packages/aardvark.base.typeproviders/4.5.8/lib/netstandard2.0/Aardvark.Base.TypeProviders.dll\n",
      ">>>> /root/.nuget/packages/aardvark.base.typeproviders/4.5.8/lib/netstandard2.0/Aardvark.Base.TypeProviders.dll\n",
      ">>>> /root/.nuget/packages/aardvark.base.typeproviders/4.5.8/lib/netstandard2.0/Aardvark.Base.TypeProviders.dll\n",
      ">>>> /root/.nuget/packages/aardvark.base.typeproviders/4.5.8/lib/netstandard2.0/Aardvark.Base.TypeProviders.dll\n",
      ">>>> /root/.nuget/packages/aardvark.base.typeproviders/4.5.8/lib/netstandard2.0/Aardvark.Base.TypeProviders.dll\n",
      ">>>> /root/.nuget/packages/aardvark.base.typeproviders/4.5.8/lib/netstandard2.0/Aardvark.Base.TypeProviders.dll\n",
      ">>>> /root/.nuget/packages/aardvark.base.typeproviders/4.5.8/lib/netstandard2.0/Aardvark.Base.TypeProviders.dll\n",
      ">>>> /root/.nuget/packages/aardvark.base.typeproviders/4.5.8/lib/netstandard2.0/Aardvark.Base.TypeProviders.dll\n",
      ">>>> /root/.nuget/packages/aardvark.base.typeproviders/4.5.8/lib/netstandard2.0/Aardvark.Base.TypeProviders.dll\n",
      ">>>> /root/.nuget/packages/aardvark.base.typeproviders/4.5.8/lib/netstandard2.0/Aardvark.Base.TypeProviders.dll\n",
      ">>>> /root/.nuget/packages/aardvark.base.typeproviders/4.5.8/lib/netstandard2.0/Aardvark.Base.TypeProviders.dll\n",
      "Using: /root/.nuget/packages/aardvark.base.typeproviders/4.5.8/lib/netstandard2.0/Aardvark.Base.TypeProviders.dll\n"
     ]
    }
   ],
   "source": [
    "#r \"nuget:FShade.Imperative, 4.3.9\"\n",
    "open FShade"
   ]
  },
  {
   "cell_type": "code",
   "execution_count": 26,
   "metadata": {},
   "outputs": [],
   "source": [
    "\n",
    "#r \"nuget:Aardvark.Base, 4.5.15\"\n",
    "#r \"nuget:Aardvark.Base.FSharp, 4.5.15\"\n",
    "#r \"nuget:Aardvark.Base.Incremental, 4.5.15\"\n",
    "#r \"nuget:FShade.Core, 4.3.9\"\n",
    "#r \"nuget:FShade, 4.3.9\"\n",
    "#r \"nuget:FShade.GLSL, 4.3.9\"\n",
    "#r \"nuget:Aardvark.Base.Rendering, 4.5.11\""
   ]
  },
  {
   "cell_type": "code",
   "execution_count": 29,
   "metadata": {},
   "outputs": [
    {
     "name": "stdout",
     "output_type": "stream",
     "text": [
      "\"#version 410\n",
      "\n",
      "\n",
      "\n",
      "layout(std140, binding = 0)\n",
      "uniform Global\n",
      "{\n",
      "    mat4x4 ModelViewProjMatrix;\n",
      "};\n",
      "\n",
      "\n",
      "\n",
      "#ifdef Vertex\n",
      "\n",
      "layout(location = 0) in vec4 pos;\n",
      "layout(location = 0) out vec4 posOut;\n",
      "void main()\n",
      "{\n",
      "    posOut = (pos * ModelViewProjMatrix);\n",
      "}\n",
      "\n",
      "#endif\n",
      "\"\n"
     ]
    },
    {
     "data": {
      "text/html": [
       "<null>"
      ]
     },
     "execution_count": 29,
     "metadata": {},
     "output_type": "execute_result"
    }
   ],
   "source": [
    "open Aardvark.Base\n",
    "open FShade\n",
    "\n",
    "   \n",
    "\n",
    "let b = 1\n",
    "type Data = { pos : V4d; tc : V2d }\n",
    "\n",
    "let shader (d : Data) =\n",
    "    vertex {\n",
    "        let mvp : M44d = uniform?ModelViewProjMatrix\n",
    "        return { pos = mvp * d.pos; tc = 2.0 * d.tc }\n",
    "    }\n",
    "\n",
    "let effect = Effect.ofFunction shader\n",
    "\n",
    "let s = \n",
    "    effect\n",
    "    // Effect -> Module (the config specifies desired outputs, etc.)\n",
    "    |> Effect.toModule { \n",
    "        EffectConfig.empty with \n",
    "            lastStage = ShaderStage.Vertex\n",
    "            outputs = Map.ofList [\"pos\", (typeof<V4d>, 0)]\n",
    "        }\n",
    "\n",
    "    // Module -> CModule\n",
    "    |> ModuleCompiler.compileGLSL glsl410 \n",
    "\n",
    "printfn \"%A\" s.code"
   ]
  }
 ],
 "metadata": {
  "kernelspec": {
   "display_name": ".NET (F#)",
   "language": "F#",
   "name": ".net-fsharp"
  },
  "language_info": {
   "file_extension": ".fs",
   "mimetype": "text/x-fsharp",
   "name": "C#",
   "pygments_lexer": "fsharp",
   "version": "4.5"
  }
 },
 "nbformat": 4,
 "nbformat_minor": 4
}
