{
 "cells": [
  {
   "cell_type": "code",
   "execution_count": 1,
   "metadata": {},
   "outputs": [
    {
     "data": {
      "text/html": [
       "Installing package Aardvark.Base.TypeProviders, version 4.5.15.failed!"
      ]
     },
     "metadata": {},
     "output_type": "display_data"
    },
    {
     "ename": "Unhandled Exception",
     "evalue": "input.fsx (2,6)-(2,14) typecheck error The namespace or module 'Aardvark' is not defined.",
     "output_type": "error",
     "traceback": [
      "input.fsx (2,6)-(2,14) typecheck error The namespace or module 'Aardvark' is not defined."
     ]
    }
   ],
   "source": [
    "#r \"nuget:Aardvark.Base.TypeProviders, 4.5.15\"\n",
    "open Aardvark.Base // needed to prevent from failing\n",
    "// this one takes forever\n",
    "// sometimes it fails like this: input.fsx (2,6)-(2,14) typecheck error The namespace or module 'Aardvark' is not defined.\n",
    "// seems to be a race condition"
   ]
  },
  {
   "cell_type": "code",
   "execution_count": 3,
   "metadata": {},
   "outputs": [],
   "source": [
    "#r \"nuget:FShade.Imperative, 4.3.9\"\n",
    "open FShade"
   ]
  },
  {
   "cell_type": "code",
   "execution_count": 2,
   "metadata": {},
   "outputs": [
    {
     "name": "stdout",
     "output_type": "stream",
     "text": [
      "=============== S T A R T ==========================================\n",
      ">>>> /root/.nuget/packages/aardvark.base.typeproviders/4.5.8/lib/netstandard2.0/Aardvark.Base.TypeProviders.dll\n",
      ">>>> /root/.nuget/packages/aardvark.base.typeproviders/4.5.8/lib/netstandard2.0/Aardvark.Base.TypeProviders.dll\n",
      ">>>> /root/.nuget/packages/aardvark.base.typeproviders/4.5.8/lib/netstandard2.0/Aardvark.Base.TypeProviders.dll\n",
      ">>>> /root/.nuget/packages/aardvark.base.typeproviders/4.5.8/lib/netstandard2.0/Aardvark.Base.TypeProviders.dll\n",
      ">>>> /root/.nuget/packages/aardvark.base.typeproviders/4.5.8/lib/netstandard2.0/Aardvark.Base.TypeProviders.dll\n",
      ">>>> /root/.nuget/packages/aardvark.base.typeproviders/4.5.8/lib/netstandard2.0/Aardvark.Base.TypeProviders.dll\n",
      ">>>> /root/.nuget/packages/aardvark.base.typeproviders/4.5.8/lib/netstandard2.0/Aardvark.Base.TypeProviders.dll\n",
      ">>>> /root/.nuget/packages/aardvark.base.typeproviders/4.5.8/lib/netstandard2.0/Aardvark.Base.TypeProviders.dll\n",
      ">>>> /root/.nuget/packages/aardvark.base.typeproviders/4.5.8/lib/netstandard2.0/Aardvark.Base.TypeProviders.dll\n",
      ">>>> /root/.nuget/packages/aardvark.base.typeproviders/4.5.8/lib/netstandard2.0/Aardvark.Base.TypeProviders.dll\n",
      ">>>> /root/.nuget/packages/aardvark.base.typeproviders/4.5.8/lib/netstandard2.0/Aardvark.Base.TypeProviders.dll\n",
      ">>>> /root/.nuget/packages/aardvark.base.typeproviders/4.5.8/lib/netstandard2.0/Aardvark.Base.TypeProviders.dll\n",
      ">>>> /root/.nuget/packages/aardvark.base.typeproviders/4.5.8/lib/netstandard2.0/Aardvark.Base.TypeProviders.dll\n",
      ">>>> /root/.nuget/packages/aardvark.base.typeproviders/4.5.8/lib/netstandard2.0/Aardvark.Base.TypeProviders.dll\n",
      ">>>> /root/.nuget/packages/aardvark.base.typeproviders/4.5.8/lib/netstandard2.0/Aardvark.Base.TypeProviders.dll\n",
      ">>>> /root/.nuget/packages/aardvark.base.typeproviders/4.5.8/lib/netstandard2.0/Aardvark.Base.TypeProviders.dll\n",
      ">>>> /root/.nuget/packages/aardvark.base.typeproviders/4.5.8/lib/netstandard2.0/Aardvark.Base.TypeProviders.dll\n",
      ">>>> /root/.nuget/packages/aardvark.base.typeproviders/4.5.8/lib/netstandard2.0/Aardvark.Base.TypeProviders.dll\n",
      ">>>> /root/.nuget/packages/aardvark.base.typeproviders/4.5.8/lib/netstandard2.0/Aardvark.Base.TypeProviders.dll\n",
      ">>>> /root/.nuget/packages/aardvark.base.typeproviders/4.5.8/lib/netstandard2.0/Aardvark.Base.TypeProviders.dll\n",
      ">>>> /root/.nuget/packages/aardvark.base.typeproviders/4.5.8/lib/netstandard2.0/Aardvark.Base.TypeProviders.dll\n",
      ">>>> /root/.nuget/packages/aardvark.base.typeproviders/4.5.8/lib/netstandard2.0/Aardvark.Base.TypeProviders.dll\n",
      ">>>> /root/.nuget/packages/aardvark.base.typeproviders/4.5.8/lib/netstandard2.0/Aardvark.Base.TypeProviders.dll\n",
      ">>>> /root/.nuget/packages/aardvark.base.typeproviders/4.5.8/lib/netstandard2.0/Aardvark.Base.TypeProviders.dll\n",
      ">>>> /root/.nuget/packages/aardvark.base.typeproviders/4.5.8/lib/netstandard2.0/Aardvark.Base.TypeProviders.dll\n",
      ">>>> /root/.nuget/packages/aardvark.base.typeproviders/4.5.8/lib/netstandard2.0/Aardvark.Base.TypeProviders.dll\n",
      ">>>> /root/.nuget/packages/aardvark.base.typeproviders/4.5.8/lib/netstandard2.0/Aardvark.Base.TypeProviders.dll\n",
      ">>>> /root/.nuget/packages/aardvark.base.typeproviders/4.5.8/lib/netstandard2.0/Aardvark.Base.TypeProviders.dll\n",
      ">>>> /root/.nuget/packages/aardvark.base.typeproviders/4.5.8/lib/netstandard2.0/Aardvark.Base.TypeProviders.dll\n",
      ">>>> /root/.nuget/packages/aardvark.base.typeproviders/4.5.8/lib/netstandard2.0/Aardvark.Base.TypeProviders.dll\n",
      ">>>> /root/.nuget/packages/aardvark.base.typeproviders/4.5.8/lib/netstandard2.0/Aardvark.Base.TypeProviders.dll\n",
      ">>>> /root/.nuget/packages/aardvark.base.typeproviders/4.5.8/lib/netstandard2.0/Aardvark.Base.TypeProviders.dll\n",
      ">>>> /root/.nuget/packages/aardvark.base.typeproviders/4.5.8/lib/netstandard2.0/Aardvark.Base.TypeProviders.dll\n",
      ">>>> /root/.nuget/packages/aardvark.base.typeproviders/4.5.8/lib/netstandard2.0/Aardvark.Base.TypeProviders.dll\n",
      ">>>> /root/.nuget/packages/aardvark.base.typeproviders/4.5.8/lib/netstandard2.0/Aardvark.Base.TypeProviders.dll\n",
      ">>>> /root/.nuget/packages/aardvark.base.typeproviders/4.5.8/lib/netstandard2.0/Aardvark.Base.TypeProviders.dll\n",
      ">>>> /root/.nuget/packages/aardvark.base.typeproviders/4.5.8/lib/netstandard2.0/Aardvark.Base.TypeProviders.dll\n",
      ">>>> /root/.nuget/packages/aardvark.base.typeproviders/4.5.8/lib/netstandard2.0/Aardvark.Base.TypeProviders.dll\n",
      ">>>> /root/.nuget/packages/aardvark.base.typeproviders/4.5.8/lib/netstandard2.0/Aardvark.Base.TypeProviders.dll\n",
      ">>>> /root/.nuget/packages/aardvark.base.typeproviders/4.5.8/lib/netstandard2.0/Aardvark.Base.TypeProviders.dll\n",
      ">>>> /root/.nuget/packages/aardvark.base.typeproviders/4.5.8/lib/netstandard2.0/Aardvark.Base.TypeProviders.dll\n",
      ">>>> /root/.nuget/packages/aardvark.base.typeproviders/4.5.8/lib/netstandard2.0/Aardvark.Base.TypeProviders.dll\n",
      ">>>> /root/.nuget/packages/aardvark.base.typeproviders/4.5.8/lib/netstandard2.0/Aardvark.Base.TypeProviders.dll\n",
      ">>>> /root/.nuget/packages/aardvark.base.typeproviders/4.5.8/lib/netstandard2.0/Aardvark.Base.TypeProviders.dll\n",
      ">>>> /root/.nuget/packages/aardvark.base.typeproviders/4.5.8/lib/netstandard2.0/Aardvark.Base.TypeProviders.dll\n",
      ">>>> /root/.nuget/packages/aardvark.base.typeproviders/4.5.8/lib/netstandard2.0/Aardvark.Base.TypeProviders.dll\n",
      ">>>> /root/.nuget/packages/aardvark.base.typeproviders/4.5.8/lib/netstandard2.0/Aardvark.Base.TypeProviders.dll\n",
      ">>>> /root/.nuget/packages/aardvark.base.typeproviders/4.5.8/lib/netstandard2.0/Aardvark.Base.TypeProviders.dll\n",
      ">>>> /root/.nuget/packages/aardvark.base.typeproviders/4.5.8/lib/netstandard2.0/Aardvark.Base.TypeProviders.dll\n",
      ">>>> /root/.nuget/packages/aardvark.base.typeproviders/4.5.8/lib/netstandard2.0/Aardvark.Base.TypeProviders.dll\n",
      ">>>> /root/.nuget/packages/aardvark.base.typeproviders/4.5.8/lib/netstandard2.0/Aardvark.Base.TypeProviders.dll\n",
      ">>>> /root/.nuget/packages/aardvark.base.typeproviders/4.5.8/lib/netstandard2.0/Aardvark.Base.TypeProviders.dll\n",
      ">>>> /root/.nuget/packages/aardvark.base.typeproviders/4.5.8/lib/netstandard2.0/Aardvark.Base.TypeProviders.dll\n",
      ">>>> /root/.nuget/packages/aardvark.base.typeproviders/4.5.8/lib/netstandard2.0/Aardvark.Base.TypeProviders.dll\n",
      ">>>> /root/.nuget/packages/aardvark.base.typeproviders/4.5.8/lib/netstandard2.0/Aardvark.Base.TypeProviders.dll\n",
      "Using: /root/.nuget/packages/aardvark.base.typeproviders/4.5.8/lib/netstandard2.0/Aardvark.Base.TypeProviders.dll\n"
     ]
    }
   ],
   "source": [
    "#r \"nuget:FShade.Core, 4.3.9\" // needed as workaround\n",
    "open FShade // needed\n",
    "(* this one puts out lines like this:\n",
    "=============== S T A R T ==========================================\n",
    ">>>> /root/.nuget/packages/aardvark.base.typeproviders/4.5.8/lib/netstandard2.0/Aardvark.Base.TypeProviders.dll\n",
    ">>>> /root/.nuget/packages/aardvark.base.typeproviders/4.5.8/lib/netstandard2.0/Aardvark.Base.TypeProviders.dll\n",
    "*)"
   ]
  },
  {
   "cell_type": "code",
   "execution_count": 4,
   "metadata": {},
   "outputs": [],
   "source": [
    "\n",
    "#r \"nuget:Aardvark.Base, 4.5.15\"\n",
    "#r \"nuget:Aardvark.Base.FSharp, 4.5.15\"\n",
    "#r \"nuget:Aardvark.Base.Incremental, 4.5.15\"\n",
    "#r \"nuget:FShade.Core, 4.3.9\"\n",
    "#r \"nuget:FShade, 4.3.9\"\n",
    "#r \"nuget:FShade.GLSL, 4.3.9\"\n",
    "#r \"nuget:Aardvark.Base.Rendering, 4.5.11\"\n",
    "    "
   ]
  },
  {
   "cell_type": "code",
   "execution_count": 5,
   "metadata": {},
   "outputs": [
    {
     "ename": "Unhandled Exception",
     "evalue": "input.fsx (20,8)-(24,10) typecheck error The type referenced through 'FShade.Imperative.Module' is defined in an assembly that is not referenced. You must add a reference to assembly 'FShade.Imperative'.",
     "output_type": "error",
     "traceback": [
      "input.fsx (20,8)-(24,10) typecheck error The type referenced through 'FShade.Imperative.Module' is defined in an assembly that is not referenced. You must add a reference to assembly 'FShade.Imperative'."
     ]
    }
   ],
   "source": [
    "open Aardvark.Base\n",
    "open FShade\n",
    "\n",
    "   \n",
    "\n",
    "let b = 1\n",
    "type Data = { pos : V4d; tc : V2d }\n",
    "\n",
    "let shader (d : Data) =\n",
    "    vertex {\n",
    "        let mvp : M44d = uniform?ModelViewProjMatrix\n",
    "        return { pos = mvp * d.pos; tc = 2.0 * d.tc }\n",
    "    }\n",
    "\n",
    "let effect = Effect.ofFunction shader\n",
    "\n",
    "let s = \n",
    "    effect\n",
    "    // Effect -> Module (the config specifies desired outputs, etc.)\n",
    "    |> Effect.toModule { \n",
    "        EffectConfig.empty with \n",
    "            lastStage = ShaderStage.Vertex\n",
    "            outputs = Map.ofList [\"pos\", (typeof<V4d>, 0)]\n",
    "        }\n",
    "\n",
    "    // Module -> CModule\n",
    "    |> ModuleCompiler.compileGLSL glsl410 \n",
    "\n",
    "printfn \"%A\" s.code\n",
    "\n",
    "// sometimes fails: input.fsx (20,8)-(24,10) typecheck error The type referenced through 'FShade.Imperative.Module' is defined in an assembly that is not referenced. You must add a reference to assembly 'FShade.Imperative'."
   ]
  },
  {
   "cell_type": "code",
   "execution_count": 6,
   "metadata": {},
   "outputs": [],
   "source": [
    "#r \"nuget:Aardvark.Application,4.5.11\"\n",
    "#r \"nuget:Aardvark.Application.Slim.GL, 4.5.11\""
   ]
  },
  {
   "cell_type": "code",
   "execution_count": 7,
   "metadata": {},
   "outputs": [
    {
     "ename": "Unhandled Exception",
     "evalue": "input.fsx (3,20)-(3,31) typecheck error The namespace 'Incremental' is not defined.\ninput.fsx (5,15)-(5,25) typecheck error The namespace 'SceneGraph' is not defined.\ninput.fsx (6,15)-(6,26) typecheck error The namespace 'Application' is not defined.\ninput.fsx (7,15)-(7,26) typecheck error The namespace 'Application' is not defined.",
     "output_type": "error",
     "traceback": [
      "input.fsx (3,20)-(3,31) typecheck error The namespace 'Incremental' is not defined.\ninput.fsx (5,15)-(5,25) typecheck error The namespace 'SceneGraph' is not defined.\ninput.fsx (6,15)-(6,26) typecheck error The namespace 'Application' is not defined.\ninput.fsx (7,15)-(7,26) typecheck error The namespace 'Application' is not defined."
     ]
    }
   ],
   "source": [
    "open System\n",
    "open Aardvark.Base\n",
    "open Aardvark.Base.Incremental\n",
    "open Aardvark.Base.Rendering\n",
    "open Aardvark.SceneGraph\n",
    "open Aardvark.Application\n",
    "open Aardvark.Application.Slim"
   ]
  },
  {
   "cell_type": "code",
   "execution_count": null,
   "metadata": {},
   "outputs": [],
   "source": [
    "let a = OpenGlApplication()"
   ]
  },
  {
   "cell_type": "code",
   "execution_count": null,
   "metadata": {},
   "outputs": [],
   "source": []
  },
  {
   "cell_type": "code",
   "execution_count": null,
   "metadata": {},
   "outputs": [],
   "source": []
  },
  {
   "cell_type": "code",
   "execution_count": null,
   "metadata": {},
   "outputs": [],
   "source": []
  }
 ],
 "metadata": {
  "kernelspec": {
   "display_name": ".NET (F#)",
   "language": "F#",
   "name": ".net-fsharp"
  },
  "language_info": {
   "file_extension": ".fs",
   "mimetype": "text/x-fsharp",
   "name": "C#",
   "pygments_lexer": "fsharp",
   "version": "4.5"
  }
 },
 "nbformat": 4,
 "nbformat_minor": 4
}
